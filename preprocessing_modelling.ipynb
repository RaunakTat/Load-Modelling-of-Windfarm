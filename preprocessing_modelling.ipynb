{
 "cells": [
  {
   "cell_type": "code",
   "execution_count": 5,
   "metadata": {},
   "outputs": [],
   "source": [
    "import pandas as pd\n",
    "import numpy as np\n",
    "import seaborn as sns\n",
    "import matplotlib.pyplot as plt\n",
    "import keras \n",
    "from sklearn.preprocessing import MinMaxScaler\n",
    "from sklearn.model_selection import RandomizedSearchCV, TimeSeriesSplit\n",
    "from sklearn.metrics import mean_squared_error, mean_absolute_error, r2_score\n",
    "from keras.layers import LSTM, Dense, Dropout\n",
    "from keras.callbacks import EarlyStopping \n",
    "from keras.wrappers.scikit_learn import KerasRegressor"
   ]
  },
  {
   "cell_type": "code",
   "execution_count": 6,
   "metadata": {},
   "outputs": [
    {
     "data": {
      "text/html": [
       "<div>\n",
       "<style scoped>\n",
       "    .dataframe tbody tr th:only-of-type {\n",
       "        vertical-align: middle;\n",
       "    }\n",
       "\n",
       "    .dataframe tbody tr th {\n",
       "        vertical-align: top;\n",
       "    }\n",
       "\n",
       "    .dataframe thead th {\n",
       "        text-align: right;\n",
       "    }\n",
       "</style>\n",
       "<table border=\"1\" class=\"dataframe\">\n",
       "  <thead>\n",
       "    <tr style=\"text-align: right;\">\n",
       "      <th></th>\n",
       "      <th>Power</th>\n",
       "      <th>Wind_speed</th>\n",
       "      <th>Theoretical_power</th>\n",
       "      <th>Loss</th>\n",
       "      <th>x_com</th>\n",
       "      <th>y_com</th>\n",
       "      <th>T_1</th>\n",
       "    </tr>\n",
       "    <tr>\n",
       "      <th>Date/Time</th>\n",
       "      <th></th>\n",
       "      <th></th>\n",
       "      <th></th>\n",
       "      <th></th>\n",
       "      <th></th>\n",
       "      <th></th>\n",
       "      <th></th>\n",
       "    </tr>\n",
       "  </thead>\n",
       "  <tbody>\n",
       "    <tr>\n",
       "      <th>2018-01-01 01:00:00</th>\n",
       "      <td>460.537125</td>\n",
       "      <td>5.644205</td>\n",
       "      <td>513.418408</td>\n",
       "      <td>52.881284</td>\n",
       "      <td>-1.068567</td>\n",
       "      <td>-5.515860</td>\n",
       "      <td>390.480362</td>\n",
       "    </tr>\n",
       "    <tr>\n",
       "      <th>2018-01-01 02:00:00</th>\n",
       "      <td>733.655375</td>\n",
       "      <td>6.452037</td>\n",
       "      <td>788.401310</td>\n",
       "      <td>54.745935</td>\n",
       "      <td>-0.176225</td>\n",
       "      <td>-6.440522</td>\n",
       "      <td>460.537125</td>\n",
       "    </tr>\n",
       "    <tr>\n",
       "      <th>2018-01-01 03:00:00</th>\n",
       "      <td>909.362081</td>\n",
       "      <td>6.811455</td>\n",
       "      <td>948.793346</td>\n",
       "      <td>39.431265</td>\n",
       "      <td>-1.652917</td>\n",
       "      <td>-6.596464</td>\n",
       "      <td>733.655375</td>\n",
       "    </tr>\n",
       "    <tr>\n",
       "      <th>2018-01-01 04:00:00</th>\n",
       "      <td>1393.518188</td>\n",
       "      <td>7.748749</td>\n",
       "      <td>1406.391795</td>\n",
       "      <td>12.873607</td>\n",
       "      <td>-2.912491</td>\n",
       "      <td>-7.138868</td>\n",
       "      <td>909.362081</td>\n",
       "    </tr>\n",
       "    <tr>\n",
       "      <th>2018-01-01 05:00:00</th>\n",
       "      <td>1149.599162</td>\n",
       "      <td>7.236854</td>\n",
       "      <td>1128.194441</td>\n",
       "      <td>-21.404721</td>\n",
       "      <td>-3.170687</td>\n",
       "      <td>-6.478943</td>\n",
       "      <td>1393.518188</td>\n",
       "    </tr>\n",
       "  </tbody>\n",
       "</table>\n",
       "</div>"
      ],
      "text/plain": [
       "                           Power  Wind_speed  Theoretical_power       Loss  \\\n",
       "Date/Time                                                                    \n",
       "2018-01-01 01:00:00   460.537125    5.644205         513.418408  52.881284   \n",
       "2018-01-01 02:00:00   733.655375    6.452037         788.401310  54.745935   \n",
       "2018-01-01 03:00:00   909.362081    6.811455         948.793346  39.431265   \n",
       "2018-01-01 04:00:00  1393.518188    7.748749        1406.391795  12.873607   \n",
       "2018-01-01 05:00:00  1149.599162    7.236854        1128.194441 -21.404721   \n",
       "\n",
       "                        x_com     y_com          T_1  \n",
       "Date/Time                                             \n",
       "2018-01-01 01:00:00 -1.068567 -5.515860   390.480362  \n",
       "2018-01-01 02:00:00 -0.176225 -6.440522   460.537125  \n",
       "2018-01-01 03:00:00 -1.652917 -6.596464   733.655375  \n",
       "2018-01-01 04:00:00 -2.912491 -7.138868   909.362081  \n",
       "2018-01-01 05:00:00 -3.170687 -6.478943  1393.518188  "
      ]
     },
     "execution_count": 6,
     "metadata": {},
     "output_type": "execute_result"
    }
   ],
   "source": [
    "#read in data\n",
    "df = pd.read_csv('data/hourly_nm.csv',index_col='Date/Time')\n",
    "df.head()"
   ]
  },
  {
   "cell_type": "code",
   "execution_count": 7,
   "metadata": {},
   "outputs": [
    {
     "name": "stdout",
     "output_type": "stream",
     "text": [
      "<class 'pandas.core.frame.DataFrame'>\n",
      "Index: 8759 entries, 2018-01-01 01:00:00 to 2018-12-31 23:00:00\n",
      "Data columns (total 7 columns):\n",
      " #   Column             Non-Null Count  Dtype  \n",
      "---  ------             --------------  -----  \n",
      " 0   Power              8759 non-null   float64\n",
      " 1   Wind_speed         8759 non-null   float64\n",
      " 2   Theoretical_power  8759 non-null   float64\n",
      " 3   Loss               8759 non-null   float64\n",
      " 4   x_com              8759 non-null   float64\n",
      " 5   y_com              8759 non-null   float64\n",
      " 6   T_1                8759 non-null   float64\n",
      "dtypes: float64(7)\n",
      "memory usage: 547.4+ KB\n",
      "None\n",
      "\n",
      "             Power   Wind_speed  Theoretical_power         Loss        x_com  \\\n",
      "count  8759.000000  8759.000000        8759.000000  8759.000000  8759.000000   \n",
      "mean   1318.141216     7.463044        1477.300912   159.159695     0.425291   \n",
      "std    1272.154339     4.161819        1334.998877   316.032952     6.453773   \n",
      "min      -0.179522     0.000000           0.000000  -342.198606   -23.562965   \n",
      "25%     131.945762     4.157298         191.685944     6.803021    -2.339228   \n",
      "50%     887.976049     7.044580        1084.711233    70.070597     1.930152   \n",
      "75%    2413.847412    10.135154        2818.334982   185.948799     4.733412   \n",
      "max    3604.410034    23.746877        3600.000000  3239.191602    15.928531   \n",
      "\n",
      "             y_com          T_1  \n",
      "count  8759.000000  8759.000000  \n",
      "mean      2.132712  1317.887059  \n",
      "std       5.098658  1272.117264  \n",
      "min     -14.872894    -0.179522  \n",
      "25%      -1.661516   131.945762  \n",
      "50%       2.376810   887.463231  \n",
      "75%       5.838316  2412.657420  \n",
      "max      15.552038  3604.410034  \n"
     ]
    }
   ],
   "source": [
    "print(df.info())\n",
    "print()\n",
    "print(df.describe())"
   ]
  },
  {
   "cell_type": "code",
   "execution_count": 8,
   "metadata": {},
   "outputs": [],
   "source": [
    "#split data into training and testing, testing data will be one month\n",
    "start_test = '2018-11-31'\n",
    "\n",
    "train, test = df.loc[:start_test], df.loc[start_test:]"
   ]
  },
  {
   "cell_type": "code",
   "execution_count": 9,
   "metadata": {},
   "outputs": [
    {
     "data": {
      "text/html": [
       "<div>\n",
       "<style scoped>\n",
       "    .dataframe tbody tr th:only-of-type {\n",
       "        vertical-align: middle;\n",
       "    }\n",
       "\n",
       "    .dataframe tbody tr th {\n",
       "        vertical-align: top;\n",
       "    }\n",
       "\n",
       "    .dataframe thead th {\n",
       "        text-align: right;\n",
       "    }\n",
       "</style>\n",
       "<table border=\"1\" class=\"dataframe\">\n",
       "  <thead>\n",
       "    <tr style=\"text-align: right;\">\n",
       "      <th></th>\n",
       "      <th>Power</th>\n",
       "      <th>Wind_speed</th>\n",
       "      <th>Theoretical_power</th>\n",
       "      <th>Loss</th>\n",
       "      <th>x_com</th>\n",
       "      <th>y_com</th>\n",
       "      <th>T_1</th>\n",
       "    </tr>\n",
       "    <tr>\n",
       "      <th>Date/Time</th>\n",
       "      <th></th>\n",
       "      <th></th>\n",
       "      <th></th>\n",
       "      <th></th>\n",
       "      <th></th>\n",
       "      <th></th>\n",
       "      <th></th>\n",
       "    </tr>\n",
       "  </thead>\n",
       "  <tbody>\n",
       "    <tr>\n",
       "      <th>2018-11-30 23:00:00</th>\n",
       "      <td>87.315742</td>\n",
       "      <td>5.643659</td>\n",
       "      <td>516.885226</td>\n",
       "      <td>429.569483</td>\n",
       "      <td>3.995407</td>\n",
       "      <td>3.978305</td>\n",
       "      <td>231.796605</td>\n",
       "    </tr>\n",
       "  </tbody>\n",
       "</table>\n",
       "</div>"
      ],
      "text/plain": [
       "                         Power  Wind_speed  Theoretical_power        Loss  \\\n",
       "Date/Time                                                                   \n",
       "2018-11-30 23:00:00  87.315742    5.643659         516.885226  429.569483   \n",
       "\n",
       "                        x_com     y_com         T_1  \n",
       "Date/Time                                            \n",
       "2018-11-30 23:00:00  3.995407  3.978305  231.796605  "
      ]
     },
     "execution_count": 9,
     "metadata": {},
     "output_type": "execute_result"
    }
   ],
   "source": [
    "train.tail(1)"
   ]
  },
  {
   "cell_type": "code",
   "execution_count": 10,
   "metadata": {},
   "outputs": [
    {
     "data": {
      "text/html": [
       "<div>\n",
       "<style scoped>\n",
       "    .dataframe tbody tr th:only-of-type {\n",
       "        vertical-align: middle;\n",
       "    }\n",
       "\n",
       "    .dataframe tbody tr th {\n",
       "        vertical-align: top;\n",
       "    }\n",
       "\n",
       "    .dataframe thead th {\n",
       "        text-align: right;\n",
       "    }\n",
       "</style>\n",
       "<table border=\"1\" class=\"dataframe\">\n",
       "  <thead>\n",
       "    <tr style=\"text-align: right;\">\n",
       "      <th></th>\n",
       "      <th>Power</th>\n",
       "      <th>Wind_speed</th>\n",
       "      <th>Theoretical_power</th>\n",
       "      <th>Loss</th>\n",
       "      <th>x_com</th>\n",
       "      <th>y_com</th>\n",
       "      <th>T_1</th>\n",
       "    </tr>\n",
       "    <tr>\n",
       "      <th>Date/Time</th>\n",
       "      <th></th>\n",
       "      <th></th>\n",
       "      <th></th>\n",
       "      <th></th>\n",
       "      <th></th>\n",
       "      <th></th>\n",
       "      <th></th>\n",
       "    </tr>\n",
       "  </thead>\n",
       "  <tbody>\n",
       "    <tr>\n",
       "      <th>2018-12-01 00:00:00</th>\n",
       "      <td>280.210704</td>\n",
       "      <td>4.57214</td>\n",
       "      <td>281.809039</td>\n",
       "      <td>1.598335</td>\n",
       "      <td>-2.893603</td>\n",
       "      <td>-3.518642</td>\n",
       "      <td>87.315742</td>\n",
       "    </tr>\n",
       "  </tbody>\n",
       "</table>\n",
       "</div>"
      ],
      "text/plain": [
       "                          Power  Wind_speed  Theoretical_power      Loss  \\\n",
       "Date/Time                                                                  \n",
       "2018-12-01 00:00:00  280.210704     4.57214         281.809039  1.598335   \n",
       "\n",
       "                        x_com     y_com        T_1  \n",
       "Date/Time                                           \n",
       "2018-12-01 00:00:00 -2.893603 -3.518642  87.315742  "
      ]
     },
     "execution_count": 10,
     "metadata": {},
     "output_type": "execute_result"
    }
   ],
   "source": [
    "test.head(1)"
   ]
  },
  {
   "cell_type": "code",
   "execution_count": 11,
   "metadata": {},
   "outputs": [
    {
     "name": "stdout",
     "output_type": "stream",
     "text": [
      "8015\n",
      "744\n"
     ]
    }
   ],
   "source": [
    "print(len(train))\n",
    "print(len(test))"
   ]
  },
  {
   "cell_type": "code",
   "execution_count": 12,
   "metadata": {},
   "outputs": [],
   "source": [
    "# scale the data using MinMax Scaler from -1 to 1 as LSTM has a default tanh activation function\n",
    "SCALER = MinMaxScaler(feature_range=(-1,1))\n",
    "\n",
    "scaler = SCALER.fit(train.to_numpy())\n",
    "\n",
    "train_scaled = scaler.transform(train.to_numpy())\n",
    "test_scaled = scaler.transform(test.to_numpy())"
   ]
  },
  {
   "cell_type": "code",
   "execution_count": 13,
   "metadata": {},
   "outputs": [],
   "source": [
    "# create a function to split the datasets into two week windows\n",
    "timestep = 24*7*2 # 24hours,7days,2weeks\n",
    "\n",
    "def create_dataset(dataset, timestep=timestep):\n",
    "    \"\"\"\n",
    "    Function which creates two week chunks of x_train data, and a single\n",
    "    value for y_train.\n",
    "    \"\"\"\n",
    "    X, y = [], []\n",
    "    for i in range(len(dataset)):\n",
    "        target_value = i + timestep\n",
    "        if target_value == len(dataset):\n",
    "            break\n",
    "        feature_chunk, target = dataset[i:target_value, 1:], dataset[target_value, 0]\n",
    "        X.append(feature_chunk)\n",
    "        y.append(target)\n",
    "    \n",
    "    return np.array(X), np.array(y) "
   ]
  },
  {
   "cell_type": "code",
   "execution_count": 14,
   "metadata": {},
   "outputs": [],
   "source": [
    "#create x_train, y_train, X_test,y_test\n",
    "X_train, y_train = create_dataset(train_scaled)\n",
    "X_test, y_test = create_dataset(test_scaled)"
   ]
  },
  {
   "cell_type": "code",
   "execution_count": 15,
   "metadata": {},
   "outputs": [
    {
     "name": "stdout",
     "output_type": "stream",
     "text": [
      "(7679, 336, 6)\n",
      "(7679,)\n",
      "(408, 336, 6)\n",
      "(408,)\n"
     ]
    }
   ],
   "source": [
    "print(X_train.shape)\n",
    "print(y_train.shape)\n",
    "print(X_test.shape)\n",
    "print(y_test.shape)"
   ]
  },
  {
   "cell_type": "code",
   "execution_count": 17,
   "metadata": {},
   "outputs": [],
   "source": [
    "# use sample of th data to train network to have a rough understanding of hyperparameters\n",
    "samp_len = int(len(X_train)*0.5)\n",
    "X_sample_train, y_sample_train = X_train[:samp_len], y_train[:samp_len]"
   ]
  },
  {
   "cell_type": "code",
   "execution_count": 18,
   "metadata": {},
   "outputs": [
    {
     "name": "stdout",
     "output_type": "stream",
     "text": [
      "(3839, 336, 6)\n",
      "(3839,)\n"
     ]
    }
   ],
   "source": [
    "print(X_sample_train.shape)\n",
    "print(y_sample_train.shape)"
   ]
  },
  {
   "cell_type": "code",
   "execution_count": 20,
   "metadata": {},
   "outputs": [],
   "source": [
    "# create X_train, y_train, X_test, y_test datasets\n",
    "# create a function to build a stacked LSTM model\n",
    "# input needs to be [samples, timesteps, features]\n",
    "def create_model(X_train, y_train):\n",
    "    units = 32\n",
    "    dropout = 0.05\n",
    "    epochs = 35\n",
    "    batch_size = 14\n",
    "    optimizer = keras.optimizers.Adam(learning_rate=0.0005)\n",
    "    early_stopping = EarlyStopping(patience=7, monitor='loss')\n",
    "\n",
    "    model = keras.Sequential()\n",
    "\n",
    "    model.add(LSTM(units=units, dropout=dropout, return_sequences=True,\n",
    "                   input_shape=(X_train.shape[1], X_train.shape[2])))\n",
    "        \n",
    "    model.add(LSTM(units=units, dropout=dropout))\n",
    "        \n",
    "    model.add(Dense(units=1))\n",
    "\n",
    "    model.compile(optimizer=optimizer, loss='mean_squared_error')\n",
    "    history = model.fit(X_train, y_train, validation_split=0.3, shuffle=False, epochs=epochs, batch_size=batch_size, verbose=1, callbacks=[early_stopping])\n",
    "       \n",
    "    return model, history"
   ]
  },
  {
   "cell_type": "code",
   "execution_count": 21,
   "metadata": {},
   "outputs": [],
   "source": [
    "# function to predict a single value \n",
    "def single_prediction(model, history, timestep=timestep):\n",
    "        \n",
    "        history = np.array(history)\n",
    "        history = history.reshape(history.shape[0]*history.shape[1], history.shape[2])\n",
    "        \n",
    "        input_value = history[-timestep:]\n",
    "        input_value = input_value.reshape(1, input_value.shape[0], input_value.shape[1])\n",
    "        \n",
    "        yhat = model.predict(input_value, verbose=0)\n",
    "        return yhat"
   ]
  },
  {
   "cell_type": "code",
   "execution_count": 22,
   "metadata": {},
   "outputs": [],
   "source": [
    "# function which takes first test chunk, makes a prediction, add the test chunk back into training data \n",
    "#to make next prediction\n",
    "\n",
    "def walk_forward_prediction(X_train, y_train, X_test, timestep):\n",
    "    \n",
    "    MODEL, history = create_model(X_train=X_train, y_train=y_train)\n",
    "    hist_train = [i for i in X_train]\n",
    "    predictions = []\n",
    "    \n",
    "    for i in range(len(X_test)):\n",
    "        test = X_test[i]\n",
    "        yhat = single_prediction(model=MODEL, history=hist_train, timestep=timestep)\n",
    "        predictions.append(yhat) \n",
    "        hist_train.append(test)\n",
    "    \n",
    "    return predictions, history, MODEL"
   ]
  },
  {
   "cell_type": "code",
   "execution_count": 23,
   "metadata": {},
   "outputs": [],
   "source": [
    "def prior_inverse(features, targets):\n",
    "    '''\n",
    "    Append prediction value to test dataset and return a test shape format.\n",
    "    '''\n",
    "    dataset = []\n",
    "    \n",
    "    for i in range(features.shape[0]):\n",
    "        last_row, target = features[i][0], targets[i]\n",
    "        appended = np.append(last_row, target)\n",
    "        dataset.append(appended)\n",
    "    \n",
    "    return np.array(dataset) "
   ]
  },
  {
   "cell_type": "code",
   "execution_count": 24,
   "metadata": {},
   "outputs": [],
   "source": [
    "#run experiemnt returning the real, predicted values\n",
    "def experiment(X_train, y_train, X_test, timestep):\n",
    "    \n",
    "    pred_seq, history, MODEL = walk_forward_prediction(X_train, y_train, X_test, timestep)\n",
    "    \n",
    "    pred_seq = np.array(pred_seq).reshape(-1)\n",
    "\n",
    "    pred = prior_inverse(X_test, pred_seq)\n",
    "    real = prior_inverse(X_test, y_test)\n",
    "\n",
    "    inv_pred = scaler.inverse_transform(pred)\n",
    "    inv_real = scaler.inverse_transform(real)\n",
    "\n",
    "    power_pred = inv_pred[:,-1]\n",
    "    power_real = inv_real[:,-1]\n",
    "    \n",
    "    return power_real, power_pred, history, MODEL"
   ]
  },
  {
   "cell_type": "code",
   "execution_count": 25,
   "metadata": {},
   "outputs": [
    {
     "name": "stdout",
     "output_type": "stream",
     "text": [
      "Epoch 1/35\n",
      "384/384 [==============================] - 159s 394ms/step - loss: 0.2469 - val_loss: 0.1821\n",
      "Epoch 2/35\n",
      "384/384 [==============================] - 139s 363ms/step - loss: 0.1451 - val_loss: 0.1107\n",
      "Epoch 3/35\n",
      "384/384 [==============================] - 139s 363ms/step - loss: 0.1026 - val_loss: 0.0831\n",
      "Epoch 4/35\n",
      "384/384 [==============================] - 135s 351ms/step - loss: 0.0912 - val_loss: 0.0756\n",
      "Epoch 5/35\n",
      "384/384 [==============================] - 136s 354ms/step - loss: 0.0863 - val_loss: 0.0722\n",
      "Epoch 6/35\n",
      "384/384 [==============================] - 131s 342ms/step - loss: 0.0836 - val_loss: 0.0709\n",
      "Epoch 7/35\n",
      "384/384 [==============================] - 133s 345ms/step - loss: 0.0817 - val_loss: 0.0680\n",
      "Epoch 8/35\n",
      "384/384 [==============================] - 156s 407ms/step - loss: 0.0810 - val_loss: 0.0683\n",
      "Epoch 9/35\n",
      "384/384 [==============================] - 175s 455ms/step - loss: 0.0800 - val_loss: 0.0685\n",
      "Epoch 10/35\n",
      "384/384 [==============================] - 151s 393ms/step - loss: 0.0802 - val_loss: 0.0682\n",
      "Epoch 11/35\n",
      "384/384 [==============================] - 208s 541ms/step - loss: 0.0779 - val_loss: 0.0673\n",
      "Epoch 12/35\n",
      "366/384 [===========================>..] - ETA: 8s - loss: 0.0800"
     ]
    },
    {
     "ename": "KeyboardInterrupt",
     "evalue": "",
     "output_type": "error",
     "traceback": [
      "\u001b[1;31m---------------------------------------------------------------------------\u001b[0m",
      "\u001b[1;31mKeyboardInterrupt\u001b[0m                         Traceback (most recent call last)",
      "Cell \u001b[1;32mIn[25], line 1\u001b[0m\n\u001b[1;32m----> 1\u001b[0m power_real, power_pred, history, MODEL \u001b[39m=\u001b[39m experiment(X_train, y_train, X_test, timestep)\n\u001b[0;32m      3\u001b[0m loss \u001b[39m=\u001b[39m history\u001b[39m.\u001b[39mhistory[\u001b[39m'\u001b[39m\u001b[39mloss\u001b[39m\u001b[39m'\u001b[39m]\n\u001b[0;32m      4\u001b[0m val_loss \u001b[39m=\u001b[39m history\u001b[39m.\u001b[39mhistory[\u001b[39m'\u001b[39m\u001b[39mval_loss\u001b[39m\u001b[39m'\u001b[39m]\n",
      "Cell \u001b[1;32mIn[24], line 4\u001b[0m, in \u001b[0;36mexperiment\u001b[1;34m(X_train, y_train, X_test, timestep)\u001b[0m\n\u001b[0;32m      2\u001b[0m \u001b[39mdef\u001b[39;00m \u001b[39mexperiment\u001b[39m(X_train, y_train, X_test, timestep):\n\u001b[1;32m----> 4\u001b[0m     pred_seq, history, MODEL \u001b[39m=\u001b[39m walk_forward_prediction(X_train, y_train, X_test, timestep)\n\u001b[0;32m      6\u001b[0m     pred_seq \u001b[39m=\u001b[39m np\u001b[39m.\u001b[39marray(pred_seq)\u001b[39m.\u001b[39mreshape(\u001b[39m-\u001b[39m\u001b[39m1\u001b[39m)\n\u001b[0;32m      8\u001b[0m     pred \u001b[39m=\u001b[39m prior_inverse(X_test, pred_seq)\n",
      "Cell \u001b[1;32mIn[22], line 6\u001b[0m, in \u001b[0;36mwalk_forward_prediction\u001b[1;34m(X_train, y_train, X_test, timestep)\u001b[0m\n\u001b[0;32m      4\u001b[0m \u001b[39mdef\u001b[39;00m \u001b[39mwalk_forward_prediction\u001b[39m(X_train, y_train, X_test, timestep):\n\u001b[1;32m----> 6\u001b[0m     MODEL, history \u001b[39m=\u001b[39m create_model(X_train\u001b[39m=\u001b[39;49mX_train, y_train\u001b[39m=\u001b[39;49my_train)\n\u001b[0;32m      7\u001b[0m     hist_train \u001b[39m=\u001b[39m [i \u001b[39mfor\u001b[39;00m i \u001b[39min\u001b[39;00m X_train]\n\u001b[0;32m      8\u001b[0m     predictions \u001b[39m=\u001b[39m []\n",
      "Cell \u001b[1;32mIn[20], line 22\u001b[0m, in \u001b[0;36mcreate_model\u001b[1;34m(X_train, y_train)\u001b[0m\n\u001b[0;32m     19\u001b[0m model\u001b[39m.\u001b[39madd(Dense(units\u001b[39m=\u001b[39m\u001b[39m1\u001b[39m))\n\u001b[0;32m     21\u001b[0m model\u001b[39m.\u001b[39mcompile(optimizer\u001b[39m=\u001b[39moptimizer, loss\u001b[39m=\u001b[39m\u001b[39m'\u001b[39m\u001b[39mmean_squared_error\u001b[39m\u001b[39m'\u001b[39m)\n\u001b[1;32m---> 22\u001b[0m history \u001b[39m=\u001b[39m model\u001b[39m.\u001b[39;49mfit(X_train, y_train, validation_split\u001b[39m=\u001b[39;49m\u001b[39m0.3\u001b[39;49m, shuffle\u001b[39m=\u001b[39;49m\u001b[39mFalse\u001b[39;49;00m, epochs\u001b[39m=\u001b[39;49mepochs, batch_size\u001b[39m=\u001b[39;49mbatch_size, verbose\u001b[39m=\u001b[39;49m\u001b[39m1\u001b[39;49m, callbacks\u001b[39m=\u001b[39;49m[early_stopping])\n\u001b[0;32m     24\u001b[0m \u001b[39mreturn\u001b[39;00m model, history\n",
      "File \u001b[1;32mc:\\Python310\\lib\\site-packages\\keras\\utils\\traceback_utils.py:65\u001b[0m, in \u001b[0;36mfilter_traceback.<locals>.error_handler\u001b[1;34m(*args, **kwargs)\u001b[0m\n\u001b[0;32m     63\u001b[0m filtered_tb \u001b[39m=\u001b[39m \u001b[39mNone\u001b[39;00m\n\u001b[0;32m     64\u001b[0m \u001b[39mtry\u001b[39;00m:\n\u001b[1;32m---> 65\u001b[0m     \u001b[39mreturn\u001b[39;00m fn(\u001b[39m*\u001b[39margs, \u001b[39m*\u001b[39m\u001b[39m*\u001b[39mkwargs)\n\u001b[0;32m     66\u001b[0m \u001b[39mexcept\u001b[39;00m \u001b[39mException\u001b[39;00m \u001b[39mas\u001b[39;00m e:\n\u001b[0;32m     67\u001b[0m     filtered_tb \u001b[39m=\u001b[39m _process_traceback_frames(e\u001b[39m.\u001b[39m__traceback__)\n",
      "File \u001b[1;32mc:\\Python310\\lib\\site-packages\\keras\\engine\\training.py:1650\u001b[0m, in \u001b[0;36mModel.fit\u001b[1;34m(self, x, y, batch_size, epochs, verbose, callbacks, validation_split, validation_data, shuffle, class_weight, sample_weight, initial_epoch, steps_per_epoch, validation_steps, validation_batch_size, validation_freq, max_queue_size, workers, use_multiprocessing)\u001b[0m\n\u001b[0;32m   1642\u001b[0m \u001b[39mwith\u001b[39;00m tf\u001b[39m.\u001b[39mprofiler\u001b[39m.\u001b[39mexperimental\u001b[39m.\u001b[39mTrace(\n\u001b[0;32m   1643\u001b[0m     \u001b[39m\"\u001b[39m\u001b[39mtrain\u001b[39m\u001b[39m\"\u001b[39m,\n\u001b[0;32m   1644\u001b[0m     epoch_num\u001b[39m=\u001b[39mepoch,\n\u001b[1;32m   (...)\u001b[0m\n\u001b[0;32m   1647\u001b[0m     _r\u001b[39m=\u001b[39m\u001b[39m1\u001b[39m,\n\u001b[0;32m   1648\u001b[0m ):\n\u001b[0;32m   1649\u001b[0m     callbacks\u001b[39m.\u001b[39mon_train_batch_begin(step)\n\u001b[1;32m-> 1650\u001b[0m     tmp_logs \u001b[39m=\u001b[39m \u001b[39mself\u001b[39;49m\u001b[39m.\u001b[39;49mtrain_function(iterator)\n\u001b[0;32m   1651\u001b[0m     \u001b[39mif\u001b[39;00m data_handler\u001b[39m.\u001b[39mshould_sync:\n\u001b[0;32m   1652\u001b[0m         context\u001b[39m.\u001b[39masync_wait()\n",
      "File \u001b[1;32mc:\\Python310\\lib\\site-packages\\tensorflow\\python\\util\\traceback_utils.py:150\u001b[0m, in \u001b[0;36mfilter_traceback.<locals>.error_handler\u001b[1;34m(*args, **kwargs)\u001b[0m\n\u001b[0;32m    148\u001b[0m filtered_tb \u001b[39m=\u001b[39m \u001b[39mNone\u001b[39;00m\n\u001b[0;32m    149\u001b[0m \u001b[39mtry\u001b[39;00m:\n\u001b[1;32m--> 150\u001b[0m   \u001b[39mreturn\u001b[39;00m fn(\u001b[39m*\u001b[39margs, \u001b[39m*\u001b[39m\u001b[39m*\u001b[39mkwargs)\n\u001b[0;32m    151\u001b[0m \u001b[39mexcept\u001b[39;00m \u001b[39mException\u001b[39;00m \u001b[39mas\u001b[39;00m e:\n\u001b[0;32m    152\u001b[0m   filtered_tb \u001b[39m=\u001b[39m _process_traceback_frames(e\u001b[39m.\u001b[39m__traceback__)\n",
      "File \u001b[1;32mc:\\Python310\\lib\\site-packages\\tensorflow\\python\\eager\\polymorphic_function\\polymorphic_function.py:880\u001b[0m, in \u001b[0;36mFunction.__call__\u001b[1;34m(self, *args, **kwds)\u001b[0m\n\u001b[0;32m    877\u001b[0m compiler \u001b[39m=\u001b[39m \u001b[39m\"\u001b[39m\u001b[39mxla\u001b[39m\u001b[39m\"\u001b[39m \u001b[39mif\u001b[39;00m \u001b[39mself\u001b[39m\u001b[39m.\u001b[39m_jit_compile \u001b[39melse\u001b[39;00m \u001b[39m\"\u001b[39m\u001b[39mnonXla\u001b[39m\u001b[39m\"\u001b[39m\n\u001b[0;32m    879\u001b[0m \u001b[39mwith\u001b[39;00m OptionalXlaContext(\u001b[39mself\u001b[39m\u001b[39m.\u001b[39m_jit_compile):\n\u001b[1;32m--> 880\u001b[0m   result \u001b[39m=\u001b[39m \u001b[39mself\u001b[39m\u001b[39m.\u001b[39m_call(\u001b[39m*\u001b[39margs, \u001b[39m*\u001b[39m\u001b[39m*\u001b[39mkwds)\n\u001b[0;32m    882\u001b[0m new_tracing_count \u001b[39m=\u001b[39m \u001b[39mself\u001b[39m\u001b[39m.\u001b[39mexperimental_get_tracing_count()\n\u001b[0;32m    883\u001b[0m without_tracing \u001b[39m=\u001b[39m (tracing_count \u001b[39m==\u001b[39m new_tracing_count)\n",
      "File \u001b[1;32mc:\\Python310\\lib\\site-packages\\tensorflow\\python\\eager\\polymorphic_function\\polymorphic_function.py:912\u001b[0m, in \u001b[0;36mFunction._call\u001b[1;34m(self, *args, **kwds)\u001b[0m\n\u001b[0;32m    909\u001b[0m   \u001b[39mself\u001b[39m\u001b[39m.\u001b[39m_lock\u001b[39m.\u001b[39mrelease()\n\u001b[0;32m    910\u001b[0m   \u001b[39m# In this case we have created variables on the first call, so we run the\u001b[39;00m\n\u001b[0;32m    911\u001b[0m   \u001b[39m# defunned version which is guaranteed to never create variables.\u001b[39;00m\n\u001b[1;32m--> 912\u001b[0m   \u001b[39mreturn\u001b[39;00m \u001b[39mself\u001b[39m\u001b[39m.\u001b[39m_no_variable_creation_fn(\u001b[39m*\u001b[39margs, \u001b[39m*\u001b[39m\u001b[39m*\u001b[39mkwds)  \u001b[39m# pylint: disable=not-callable\u001b[39;00m\n\u001b[0;32m    913\u001b[0m \u001b[39melif\u001b[39;00m \u001b[39mself\u001b[39m\u001b[39m.\u001b[39m_variable_creation_fn \u001b[39mis\u001b[39;00m \u001b[39mnot\u001b[39;00m \u001b[39mNone\u001b[39;00m:\n\u001b[0;32m    914\u001b[0m   \u001b[39m# Release the lock early so that multiple threads can perform the call\u001b[39;00m\n\u001b[0;32m    915\u001b[0m   \u001b[39m# in parallel.\u001b[39;00m\n\u001b[0;32m    916\u001b[0m   \u001b[39mself\u001b[39m\u001b[39m.\u001b[39m_lock\u001b[39m.\u001b[39mrelease()\n",
      "File \u001b[1;32mc:\\Python310\\lib\\site-packages\\tensorflow\\python\\eager\\polymorphic_function\\tracing_compiler.py:134\u001b[0m, in \u001b[0;36mTracingCompiler.__call__\u001b[1;34m(self, *args, **kwargs)\u001b[0m\n\u001b[0;32m    131\u001b[0m \u001b[39mwith\u001b[39;00m \u001b[39mself\u001b[39m\u001b[39m.\u001b[39m_lock:\n\u001b[0;32m    132\u001b[0m   (concrete_function,\n\u001b[0;32m    133\u001b[0m    filtered_flat_args) \u001b[39m=\u001b[39m \u001b[39mself\u001b[39m\u001b[39m.\u001b[39m_maybe_define_function(args, kwargs)\n\u001b[1;32m--> 134\u001b[0m \u001b[39mreturn\u001b[39;00m concrete_function\u001b[39m.\u001b[39;49m_call_flat(\n\u001b[0;32m    135\u001b[0m     filtered_flat_args, captured_inputs\u001b[39m=\u001b[39;49mconcrete_function\u001b[39m.\u001b[39;49mcaptured_inputs)\n",
      "File \u001b[1;32mc:\\Python310\\lib\\site-packages\\tensorflow\\python\\eager\\polymorphic_function\\monomorphic_function.py:1745\u001b[0m, in \u001b[0;36mConcreteFunction._call_flat\u001b[1;34m(self, args, captured_inputs, cancellation_manager)\u001b[0m\n\u001b[0;32m   1741\u001b[0m possible_gradient_type \u001b[39m=\u001b[39m gradients_util\u001b[39m.\u001b[39mPossibleTapeGradientTypes(args)\n\u001b[0;32m   1742\u001b[0m \u001b[39mif\u001b[39;00m (possible_gradient_type \u001b[39m==\u001b[39m gradients_util\u001b[39m.\u001b[39mPOSSIBLE_GRADIENT_TYPES_NONE\n\u001b[0;32m   1743\u001b[0m     \u001b[39mand\u001b[39;00m executing_eagerly):\n\u001b[0;32m   1744\u001b[0m   \u001b[39m# No tape is watching; skip to running the function.\u001b[39;00m\n\u001b[1;32m-> 1745\u001b[0m   \u001b[39mreturn\u001b[39;00m \u001b[39mself\u001b[39m\u001b[39m.\u001b[39m_build_call_outputs(\u001b[39mself\u001b[39;49m\u001b[39m.\u001b[39;49m_inference_function\u001b[39m.\u001b[39;49mcall(\n\u001b[0;32m   1746\u001b[0m       ctx, args, cancellation_manager\u001b[39m=\u001b[39;49mcancellation_manager))\n\u001b[0;32m   1747\u001b[0m forward_backward \u001b[39m=\u001b[39m \u001b[39mself\u001b[39m\u001b[39m.\u001b[39m_select_forward_and_backward_functions(\n\u001b[0;32m   1748\u001b[0m     args,\n\u001b[0;32m   1749\u001b[0m     possible_gradient_type,\n\u001b[0;32m   1750\u001b[0m     executing_eagerly)\n\u001b[0;32m   1751\u001b[0m forward_function, args_with_tangents \u001b[39m=\u001b[39m forward_backward\u001b[39m.\u001b[39mforward()\n",
      "File \u001b[1;32mc:\\Python310\\lib\\site-packages\\tensorflow\\python\\eager\\polymorphic_function\\monomorphic_function.py:378\u001b[0m, in \u001b[0;36m_EagerDefinedFunction.call\u001b[1;34m(self, ctx, args, cancellation_manager)\u001b[0m\n\u001b[0;32m    376\u001b[0m \u001b[39mwith\u001b[39;00m _InterpolateFunctionError(\u001b[39mself\u001b[39m):\n\u001b[0;32m    377\u001b[0m   \u001b[39mif\u001b[39;00m cancellation_manager \u001b[39mis\u001b[39;00m \u001b[39mNone\u001b[39;00m:\n\u001b[1;32m--> 378\u001b[0m     outputs \u001b[39m=\u001b[39m execute\u001b[39m.\u001b[39;49mexecute(\n\u001b[0;32m    379\u001b[0m         \u001b[39mstr\u001b[39;49m(\u001b[39mself\u001b[39;49m\u001b[39m.\u001b[39;49msignature\u001b[39m.\u001b[39;49mname),\n\u001b[0;32m    380\u001b[0m         num_outputs\u001b[39m=\u001b[39;49m\u001b[39mself\u001b[39;49m\u001b[39m.\u001b[39;49m_num_outputs,\n\u001b[0;32m    381\u001b[0m         inputs\u001b[39m=\u001b[39;49margs,\n\u001b[0;32m    382\u001b[0m         attrs\u001b[39m=\u001b[39;49mattrs,\n\u001b[0;32m    383\u001b[0m         ctx\u001b[39m=\u001b[39;49mctx)\n\u001b[0;32m    384\u001b[0m   \u001b[39melse\u001b[39;00m:\n\u001b[0;32m    385\u001b[0m     outputs \u001b[39m=\u001b[39m execute\u001b[39m.\u001b[39mexecute_with_cancellation(\n\u001b[0;32m    386\u001b[0m         \u001b[39mstr\u001b[39m(\u001b[39mself\u001b[39m\u001b[39m.\u001b[39msignature\u001b[39m.\u001b[39mname),\n\u001b[0;32m    387\u001b[0m         num_outputs\u001b[39m=\u001b[39m\u001b[39mself\u001b[39m\u001b[39m.\u001b[39m_num_outputs,\n\u001b[1;32m   (...)\u001b[0m\n\u001b[0;32m    390\u001b[0m         ctx\u001b[39m=\u001b[39mctx,\n\u001b[0;32m    391\u001b[0m         cancellation_manager\u001b[39m=\u001b[39mcancellation_manager)\n",
      "File \u001b[1;32mc:\\Python310\\lib\\site-packages\\tensorflow\\python\\eager\\execute.py:52\u001b[0m, in \u001b[0;36mquick_execute\u001b[1;34m(op_name, num_outputs, inputs, attrs, ctx, name)\u001b[0m\n\u001b[0;32m     50\u001b[0m \u001b[39mtry\u001b[39;00m:\n\u001b[0;32m     51\u001b[0m   ctx\u001b[39m.\u001b[39mensure_initialized()\n\u001b[1;32m---> 52\u001b[0m   tensors \u001b[39m=\u001b[39m pywrap_tfe\u001b[39m.\u001b[39;49mTFE_Py_Execute(ctx\u001b[39m.\u001b[39;49m_handle, device_name, op_name,\n\u001b[0;32m     53\u001b[0m                                       inputs, attrs, num_outputs)\n\u001b[0;32m     54\u001b[0m \u001b[39mexcept\u001b[39;00m core\u001b[39m.\u001b[39m_NotOkStatusException \u001b[39mas\u001b[39;00m e:\n\u001b[0;32m     55\u001b[0m   \u001b[39mif\u001b[39;00m name \u001b[39mis\u001b[39;00m \u001b[39mnot\u001b[39;00m \u001b[39mNone\u001b[39;00m:\n",
      "\u001b[1;31mKeyboardInterrupt\u001b[0m: "
     ]
    }
   ],
   "source": [
    "power_real, power_pred, history, MODEL = experiment(X_train, y_train, X_test, timestep)\n",
    "\n",
    "loss = history.history['loss']\n",
    "val_loss = history.history['val_loss']"
   ]
  }
 ],
 "metadata": {
  "kernelspec": {
   "display_name": "Python 3",
   "language": "python",
   "name": "python3"
  },
  "language_info": {
   "codemirror_mode": {
    "name": "ipython",
    "version": 3
   },
   "file_extension": ".py",
   "mimetype": "text/x-python",
   "name": "python",
   "nbconvert_exporter": "python",
   "pygments_lexer": "ipython3",
   "version": "3.10.4"
  },
  "orig_nbformat": 4,
  "vscode": {
   "interpreter": {
    "hash": "369f2c481f4da34e4445cda3fffd2e751bd1c4d706f27375911949ba6bb62e1c"
   }
  }
 },
 "nbformat": 4,
 "nbformat_minor": 2
}
